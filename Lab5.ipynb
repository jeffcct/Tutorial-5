{
 "cells": [
  {
   "cell_type": "code",
   "execution_count": 1,
   "id": "423a2f7c-9b84-4721-80ea-9905007283df",
   "metadata": {},
   "outputs": [],
   "source": [
    "from ucimlrepo import fetch_ucirepo\n",
    "import matplotlib.pyplot as plt\n",
    "import numpy as np\n",
    "\n",
    "from sklearn.tree import DecisionTreeClassifier\n",
    "from sklearn.tree import plot_tree\n",
    "from sklearn.model_selection import train_test_split\n",
    "from sklearn.model_selection import cross_val_score\n",
    "from sklearn.metrics import confusion_matrix\n",
    "from sklearn.metrics import ConfusionMatrixDisplay\n",
    "\n",
    "\n",
    "from sklearn.tree import DecisionTreeClassifier\n",
    "from sklearn.ensemble import AdaBoostClassifier\n",
    "from sklearn.ensemble import RandomForestClassifier\n",
    "from sklearn.ensemble import BaggingClassifier\n",
    "\n",
    "from sklearn.metrics import roc_curve\n",
    "from sklearn.metrics import confusion_matrix, classification_report, accuracy_score\n",
    "\n",
    "import sklearn.datasets;\n",
    "data = sklearn.datasets.load_breast_cancer()\n"
   ]
  },
  {
   "cell_type": "code",
   "execution_count": 2,
   "id": "fdc5eea5-d845-4d0e-8eeb-44e618fd3167",
   "metadata": {},
   "outputs": [
    {
     "data": {
      "text/plain": [
       "0.9736842105263158"
      ]
     },
     "execution_count": 2,
     "metadata": {},
     "output_type": "execute_result"
    }
   ],
   "source": [
    "data, target = sklearn.datasets.load_breast_cancer(return_X_y = True, as_frame = True)\n",
    "x_train, x_test, y_train, y_test = train_test_split(data, target, test_size = 0.2, random_state = 5)\n",
    "\n",
    "random_forest = RandomForestClassifier(n_estimators = 20, criterion = 'entropy', random_state = 51)\n",
    "random_forest.fit(x_train, y_train)\n",
    "\n",
    "test_score = random_forest.score(x_test, y_test)\n",
    "train_score = random_forest.score(x_train, y_train)\n",
    "y_pred_rf = random_forest.predict(x_test)\n",
    "accuracy_score(y_test, y_pred_rf)\n"
   ]
  },
  {
   "cell_type": "code",
   "execution_count": 3,
   "id": "7171d911-da2b-4350-89eb-dece071e1769",
   "metadata": {},
   "outputs": [
    {
     "name": "stdout",
     "output_type": "stream",
     "text": [
      "A Random Forest classifier running on the breast cancer dataset from sklearn gives a probility of 97.368% on the training data and a probability of 99.780%.\n"
     ]
    }
   ],
   "source": [
    "print(f\"A Random Forest classifier running on the breast cancer dataset from sklearn gives a probility of{test_score * 100: .3f}% on the training data and a probability of{train_score * 100: .3f}%.\")"
   ]
  },
  {
   "cell_type": "code",
   "execution_count": null,
   "id": "f297ab09-318c-4674-a6c7-606ac156f783",
   "metadata": {},
   "outputs": [],
   "source": []
  }
 ],
 "metadata": {
  "kernelspec": {
   "display_name": "Python 3 (ipykernel)",
   "language": "python",
   "name": "python3"
  },
  "language_info": {
   "codemirror_mode": {
    "name": "ipython",
    "version": 3
   },
   "file_extension": ".py",
   "mimetype": "text/x-python",
   "name": "python",
   "nbconvert_exporter": "python",
   "pygments_lexer": "ipython3",
   "version": "3.12.2"
  }
 },
 "nbformat": 4,
 "nbformat_minor": 5
}
