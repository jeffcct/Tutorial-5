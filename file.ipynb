{
 "cells": [
  {
   "cell_type": "code",
   "execution_count": 3,
   "metadata": {},
   "outputs": [],
   "source": [
    "from ucimlrepo import fetch_ucirepo\n",
    "import matplotlib.pyplot as plt\n",
    "import numpy as np\n",
    "\n",
    "from sklearn.tree import DecisionTreeClassifier\n",
    "from sklearn.tree import plot_tree\n",
    "from sklearn.model_selection import train_test_split\n",
    "from sklearn.model_selection import cross_val_score\n",
    "from sklearn.metrics import confusion_matrix\n",
    "from sklearn.metrics import ConfusionMatrixDisplay\n",
    "\n",
    "\n",
    "from sklearn.tree import DecisionTreeClassifier\n",
    "from sklearn.ensemble import AdaBoostClassifier\n",
    "from sklearn.ensemble import RandomForestClassifier\n",
    "from sklearn.ensemble import BaggingClassifier\n",
    "\n",
    "from sklearn.metrics import roc_curve\n",
    "\n",
    "import sklearn.datasets;\n",
    "data = sklearn.datasets.load_breast_cancer()\n"
   ]
  },
  {
   "cell_type": "code",
   "execution_count": 4,
   "metadata": {},
   "outputs": [
    {
     "name": "stdout",
     "output_type": "stream",
     "text": [
      "A Decision Tree classifier running on the breast cancer dataset from sklearn gives a probility of 90.210% on the training data and a probability of 100.000%.\n"
     ]
    }
   ],
   "source": [
    "# Jeff's changes: DecisionTreeClassifier\n",
    "data, target = sklearn.datasets.load_breast_cancer(return_X_y = True, as_frame = True)\n",
    "x_train, x_test, y_train, y_test = train_test_split(data, target, random_state = 512)\n",
    "\n",
    "dTree = DecisionTreeClassifier(random_state = 512)\n",
    "\n",
    "dTree.fit(x_train, y_train)\n",
    "\n",
    "test_score = dTree.score(x_test, y_test)\n",
    "train_score = dTree.score(x_train, y_train)\n",
    "print(f\"A Decision Tree classifier running on the breast cancer dataset from sklearn gives a probility of{test_score * 100: .3f}% on the training data and a probability of{train_score * 100: .3f}%.\")\n",
    "\n"
   ]
  },
  {
   "cell_type": "code",
   "execution_count": 6,
   "metadata": {},
   "outputs": [
    {
     "name": "stdout",
     "output_type": "stream",
     "text": [
      "An XGBoost classifier running on the breast cancer dataset from sklearn gives a probility of 94.406% on the training data and a probability of 100.000%.\n"
     ]
    }
   ],
   "source": [
    "#requires installing xgboost using pip install xgboost to work.\n",
    "from xgboost import XGBClassifier\n",
    "\n",
    "data, target = sklearn.datasets.load_breast_cancer(return_X_y = True, as_frame = True)\n",
    "\n",
    "x_train, x_test, y_train, y_test = train_test_split(data, target, random_state = 512)\n",
    "\n",
    "xgbClassifier = XGBClassifier(random_state = 42)\n",
    "xgbClassifier.fit(x_train.to_numpy(), y_train.to_numpy()) # looking up in xgboost docs, it can't be a pandas dataframe, but can be a numpy array.\n",
    "\n",
    "test_score = xgbClassifier.score(x_test, y_test)\n",
    "train_score = xgbClassifier.score(x_train, y_train)\n",
    "print(f\"An XGBoost classifier running on the breast cancer dataset from sklearn gives a probility of{test_score * 100: .3f}% on the training data and a probability of{train_score * 100: .3f}%.\")\n",
    "\n",
    "\n",
    "\n"
   ]
  },
  {
   "cell_type": "code",
   "execution_count": 7,
   "metadata": {},
   "outputs": [
    {
     "name": "stdout",
     "output_type": "stream",
     "text": [
      "A Bagging classifier running on the breast cancer dataset from sklearn gives a probility of 93.007% on the training data and a probability of 99.296%.\n"
     ]
    }
   ],
   "source": [
    "#James's Changes: Bagging Classifier\n",
    "data, target = sklearn.datasets.load_breast_cancer(return_X_y = True, as_frame = True)\n",
    "x_train, x_test, y_train, y_test = train_test_split(data, target, random_state = 512)\n",
    "\n",
    "bagging = BaggingClassifier(random_state = 512)\n",
    "bagging.fit(x_train, y_train)\n",
    "\n",
    "print(\"test commit\")\n",
    "test_score = bagging.score(x_test, y_test)\n",
    "train_score = bagging.score(x_train, y_train)\n",
    "print(f\"A Bagging classifier running on the breast cancer dataset from sklearn gives a probility of{test_score * 100: .3f}% on the training data and a probability of{train_score * 100: .3f}%.\")"
   ]
  }
 ],
 "metadata": {
  "kernelspec": {
   "display_name": "Python 3",
   "language": "python",
   "name": "python3"
  },
  "language_info": {
   "codemirror_mode": {
    "name": "ipython",
    "version": 3
   },
   "file_extension": ".py",
   "mimetype": "text/x-python",
   "name": "python",
   "nbconvert_exporter": "python",
   "pygments_lexer": "ipython3",
   "version": "3.9.13"
  }
 },
 "nbformat": 4,
 "nbformat_minor": 2
}
