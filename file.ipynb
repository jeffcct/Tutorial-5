{
 "cells": [
  {
   "cell_type": "code",
   "execution_count": 33,
   "metadata": {},
   "outputs": [],
   "source": [
    "from ucimlrepo import fetch_ucirepo\n",
    "import matplotlib.pyplot as plt\n",
    "import numpy as np\n",
    "\n",
    "from sklearn.tree import DecisionTreeClassifier\n",
    "from sklearn.tree import plot_tree\n",
    "from sklearn.model_selection import train_test_split\n",
    "from sklearn.model_selection import cross_val_score\n",
    "from sklearn.metrics import confusion_matrix\n",
    "from sklearn.metrics import ConfusionMatrixDisplay\n",
    "\n",
    "\n",
    "from sklearn.tree import DecisionTreeClassifier\n",
    "from sklearn.ensemble import AdaBoostClassifier\n",
    "from sklearn.ensemble import RandomForestClassifier\n",
    "from sklearn.ensemble import BaggingClassifier\n",
    "\n",
    "from sklearn.metrics import roc_curve\n",
    "from sklearn.metrics import auc\n",
    "from sklearn.metrics import roc_auc_score\n",
    "\n",
    "import sklearn.datasets;\n",
    "data = sklearn.datasets.load_breast_cancer()\n"
   ]
  },
  {
   "cell_type": "markdown",
   "metadata": {},
   "source": [
    "# Data Imbalance Check\n",
    "There are 212 malacious and 357 benign samples in the dataset. The data is relatively balanced."
   ]
  },
  {
   "cell_type": "code",
   "execution_count": 34,
   "metadata": {},
   "outputs": [
    {
     "name": "stdout",
     "output_type": "stream",
     "text": [
      "target\n",
      "1    357\n",
      "0    212\n",
      "Name: count, dtype: int64\n"
     ]
    }
   ],
   "source": [
    "data, target = sklearn.datasets.load_breast_cancer(return_X_y = True, as_frame = True)\n",
    "print(target.value_counts())\n",
    "x_train, x_test, y_train, y_test = train_test_split(data, target, random_state = 512)"
   ]
  },
  {
   "cell_type": "markdown",
   "metadata": {},
   "source": [
    "# Classifiers"
   ]
  },
  {
   "cell_type": "code",
   "execution_count": 35,
   "metadata": {},
   "outputs": [
    {
     "name": "stdout",
     "output_type": "stream",
     "text": [
      "A Decision Tree classifier running on the breast cancer dataset from sklearn gives a probility of 90.210% on the training data and a probability of 100.000%.\n"
     ]
    }
   ],
   "source": [
    "# Jeff's changes: DecisionTreeClassifier\n",
    "\n",
    "\n",
    "dTree = DecisionTreeClassifier(random_state = 512)\n",
    "\n",
    "dTree.fit(x_train, y_train)\n",
    "\n",
    "test_score = dTree.score(x_test, y_test)\n",
    "train_score = dTree.score(x_train, y_train)\n",
    "print(f\"A Decision Tree classifier running on the breast cancer dataset from sklearn gives a probility of{test_score * 100: .3f}% on the training data and a probability of{train_score * 100: .3f}%.\")\n"
   ]
  },
  {
   "cell_type": "code",
   "execution_count": 37,
   "metadata": {},
   "outputs": [
    {
     "name": "stdout",
     "output_type": "stream",
     "text": [
      "An XGBoost classifier running on the breast cancer dataset from sklearn gives a probility of 94.406% on the training data and a probability of 100.000%.\n"
     ]
    }
   ],
   "source": [
    "#requires installing xgboost using pip install xgboost to work.\n",
    "from xgboost import XGBClassifier\n",
    "\n",
    "data, target = sklearn.datasets.load_breast_cancer(return_X_y = True, as_frame = True)\n",
    "\n",
    "x_train, x_test, y_train, y_test = train_test_split(data, target, random_state = 512)\n",
    "\n",
    "xgbClassifier = XGBClassifier(random_state = 42)\n",
    "xgbClassifier.fit(x_train.to_numpy(), y_train.to_numpy()) # looking up in xgboost docs, it can't be a pandas dataframe, but can be a numpy array.\n",
    "\n",
    "test_score = xgbClassifier.score(x_test, y_test)\n",
    "train_score = xgbClassifier.score(x_train, y_train)\n",
    "print(f\"An XGBoost classifier running on the breast cancer dataset from sklearn gives a probility of{test_score * 100: .3f}% on the training data and a probability of{train_score * 100: .3f}%.\")\n",
    "\n",
    "\n",
    "\n"
   ]
  },
  {
   "cell_type": "code",
   "execution_count": 38,
   "metadata": {},
   "outputs": [
    {
     "name": "stdout",
     "output_type": "stream",
     "text": [
      "A Bagging classifier running on the breast cancer dataset from sklearn gives a probility of 93.007% on the training data and a probability of 99.296%.\n"
     ]
    }
   ],
   "source": [
    "#James's Changes: Bagging Classifier\n",
    "data, target = sklearn.datasets.load_breast_cancer(return_X_y = True, as_frame = True)\n",
    "x_train, x_test, y_train, y_test = train_test_split(data, target, random_state = 512)\n",
    "\n",
    "bagging = BaggingClassifier(random_state = 512)\n",
    "bagging.fit(x_train, y_train)\n",
    "\n",
    "test_score = bagging.score(x_test, y_test)\n",
    "train_score = bagging.score(x_train, y_train)\n",
    "print(f\"A Bagging classifier running on the breast cancer dataset from sklearn gives a probility of{test_score * 100: .3f}% on the training data and a probability of{train_score * 100: .3f}%.\")"
   ]
  },
  {
   "cell_type": "code",
   "execution_count": 39,
   "metadata": {},
   "outputs": [
    {
     "name": "stderr",
     "output_type": "stream",
     "text": [
      "/home/jffrysith/.local/lib/python3.10/site-packages/sklearn/ensemble/_weight_boosting.py:519: FutureWarning: The SAMME.R algorithm (the default) is deprecated and will be removed in 1.6. Use the SAMME algorithm to circumvent this warning.\n",
      "  warnings.warn(\n"
     ]
    },
    {
     "name": "stdout",
     "output_type": "stream",
     "text": [
      "An Adaboost classifier running on the breast cancer dataset from sklearn gives a probility of 94.406% on the training data and a probability of 100.000%.\n"
     ]
    }
   ],
   "source": [
    "# Lucia's changes\n",
    "\n",
    "data, target = sklearn.datasets.load_breast_cancer(return_X_y = True, as_frame = True)\n",
    "x_train, x_test, y_train, y_test = train_test_split(data, target, random_state = 512)\n",
    "\n",
    "\n",
    "adaboost = AdaBoostClassifier(random_state=512)\n",
    "adaboost.fit(x_train, y_train)\n",
    "\n",
    "test_score = adaboost.score(x_test, y_test)\n",
    "train_score = adaboost.score(x_train, y_train)\n",
    "print(f\"An Adaboost classifier running on the breast cancer dataset from sklearn gives a probility of{test_score * 100: .3f}% on the training data and a probability of{train_score * 100: .3f}%.\")\n"
   ]
  },
  {
   "cell_type": "code",
   "execution_count": 40,
   "metadata": {},
   "outputs": [
    {
     "name": "stdout",
     "output_type": "stream",
     "text": [
      "A Random Forest classifier running on the breast cancer dataset from sklearn gives a probability of 97.368% on the training data and a probability of 99.780%.\n"
     ]
    }
   ],
   "source": [
    "# Natasha\n",
    "\n",
    "data, target = sklearn.datasets.load_breast_cancer(return_X_y = True, as_frame = True)\n",
    "x_train, x_test, y_train, y_test = train_test_split(data, target, test_size = 0.2, random_state = 5)\n",
    "\n",
    "random_forest = RandomForestClassifier(n_estimators = 20, criterion = 'entropy', random_state = 51)\n",
    "random_forest.fit(x_train, y_train)\n",
    "\n",
    "test_score = random_forest.score(x_test, y_test)\n",
    "train_score = random_forest.score(x_train, y_train)\n",
    "\n",
    "print(f\"A Random Forest classifier running on the breast cancer dataset from sklearn gives a probability of{test_score * 100: .3f}% on the training data and a probability of{train_score * 100: .3f}%.\")"
   ]
  },
  {
   "cell_type": "markdown",
   "metadata": {},
   "source": [
    "# Performance measure\n",
    "We will use ROC to compare the data??\n",
    "https://www.statology.org/plot-multiple-roc-curves-python/\n",
    "https://stackoverflow.com/questions/56874221/how-i-can-plot-multiple-roc-together\n"
   ]
  },
  {
   "cell_type": "code",
   "execution_count": 41,
   "metadata": {},
   "outputs": [],
   "source": [
    "# Roc"
   ]
  }
 ],
 "metadata": {
  "kernelspec": {
   "display_name": "Python 3 (ipykernel)",
   "language": "python",
   "name": "python3"
  },
  "language_info": {
   "codemirror_mode": {
    "name": "ipython",
    "version": 3
   },
   "file_extension": ".py",
   "mimetype": "text/x-python",
   "name": "python",
   "nbconvert_exporter": "python",
   "pygments_lexer": "ipython3",
   "version": "3.12.2"
  }
 },
 "nbformat": 4,
 "nbformat_minor": 4
}
